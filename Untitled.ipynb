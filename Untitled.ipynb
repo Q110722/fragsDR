{
  "nbformat": 4,
  "nbformat_minor": 0,
  "metadata": {
    "colab": {
      "provenance": [],
      "authorship_tag": "ABX9TyN2WoNz1Sy+6VM5D0EPLVX+"
    },
    "kernelspec": {
      "name": "python3",
      "display_name": "Python 3"
    },
    "language_info": {
      "name": "python"
    }
  },
  "cells": [
    {
      "cell_type": "code",
      "execution_count": 122,
      "metadata": {
        "colab": {
          "base_uri": "https://localhost:8080/",
          "height": 110
        },
        "id": "-oBlV3TWkVWm",
        "outputId": "d6dc8438-b838-48d6-e3c0-5da5fcb8c78c"
      },
      "outputs": [
        {
          "output_type": "execute_result",
          "data": {
            "text/plain": [
              "'import numpy as np\\nfrom scipy.optimize import curve_fit\\n\\n# 주어진 데이터\\nn = 9000\\nn2 = 9500\\nn3 = 1630 * 5\\nn4 = 1760 * 5\\nn5 = 1920 * 5\\n\\n# 수정된 a 데이터\\na = np.array([126, 234, 276, 326])\\nitem_counts = np.array([7.04, 8.4, 10.5, 11.6])\\n\\n# p값 고정\\np_fixed = 0.0006\\n\\n# 최종 확률 계산\\nfinal_probabilities = item_counts / np.array([n, n, n2, n2])\\n\\ndef final_probability_model(a, b):\\n    return p_fixed * (1 + b * np.log10(a))\\n\\n# 최소 자승법을 사용하여 모델 적합\\npopt, pcov = curve_fit(final_probability_model, a, final_probabilities, bounds=(0, np.inf))\\noptimal_b = popt[0]\\n\\n# 최적화된 b값과 고정된 p값\\ndef updated_final_probability_model(a):\\n    return p_fixed * (1 + optimal_b * np.log10(a))\\n\\n# 출력\\nprint(f\"Optimal b value: {optimal_b}\")\\n\\n# 각 a값에 대한 최종 확률 및 아이템 획득 수 계산 및 출력\\nfor a_val, final_prob, item_count in zip(a, final_probabilities, item_counts):\\n    updated_final_prob = updated_final_probability_model(a_val)\\n    updated_item_count = n * updated_final_prob  # 아이템 획득 수 계산\\n    print(\"\\nFor a = {:.1f}:\".format(a_val))\\n    print(f\"Original Final Probability: {final_prob}\")\\n    print(f\"Updated Final Probability: {updated_final_prob}\")\\n    print(f\"Original Item Count: {item_count}\")\\n    print(f\"Updated Item Count: {updated_item_count:.5f}\")'"
            ],
            "application/vnd.google.colaboratory.intrinsic+json": {
              "type": "string"
            }
          },
          "metadata": {},
          "execution_count": 122
        }
      ],
      "source": [
        "\"\"\"import numpy as np\n",
        "from scipy.optimize import curve_fit\n",
        "\n",
        "# 주어진 데이터\n",
        "n = 9000\n",
        "n2 = 9500\n",
        "n3 = 1630 * 5\n",
        "n4 = 1760 * 5\n",
        "n5 = 1920 * 5\n",
        "\n",
        "# 수정된 a 데이터\n",
        "a = np.array([126, 234, 276, 326])\n",
        "item_counts = np.array([7.04, 8.4, 10.5, 11.6])\n",
        "\n",
        "# p값 고정\n",
        "p_fixed = 0.0006\n",
        "\n",
        "# 최종 확률 계산\n",
        "final_probabilities = item_counts / np.array([n, n, n2, n2])\n",
        "\n",
        "def final_probability_model(a, b):\n",
        "    return p_fixed * (1 + b * np.log10(a))\n",
        "\n",
        "# 최소 자승법을 사용하여 모델 적합\n",
        "popt, pcov = curve_fit(final_probability_model, a, final_probabilities, bounds=(0, np.inf))\n",
        "optimal_b = popt[0]\n",
        "\n",
        "# 최적화된 b값과 고정된 p값\n",
        "def updated_final_probability_model(a):\n",
        "    return p_fixed * (1 + optimal_b * np.log10(a))\n",
        "\n",
        "# 출력\n",
        "print(f\"Optimal b value: {optimal_b}\")\n",
        "\n",
        "# 각 a값에 대한 최종 확률 및 아이템 획득 수 계산 및 출력\n",
        "for a_val, final_prob, item_count in zip(a, final_probabilities, item_counts):\n",
        "    updated_final_prob = updated_final_probability_model(a_val)\n",
        "    updated_item_count = n * updated_final_prob  # 아이템 획득 수 계산\n",
        "    print(\"\\nFor a = {:.1f}:\".format(a_val))\n",
        "    print(f\"Original Final Probability: {final_prob}\")\n",
        "    print(f\"Updated Final Probability: {updated_final_prob}\")\n",
        "    print(f\"Original Item Count: {item_count}\")\n",
        "    print(f\"Updated Item Count: {updated_item_count:.5f}\")\"\"\""
      ]
    },
    {
      "cell_type": "code",
      "source": [
        "data_text = \"\"\"198재 32 0 43 1610 36522\n",
        "199재 23 0 38 2810 37858 유행\n",
        "200재 36 1 42 2380 36603\n",
        "201재 27 3 36 2010 36772\n",
        "202재 26 3 33 2740 32009\n",
        "203재 18 2 33 2440 36164\n",
        "204재 11 1 48 3080 36955\n",
        "205재 17 2 41 2570 32858\n",
        "206재 25 0 34 1960 35960\n",
        "207재 30 1 37 2370 35960\n",
        "208재 23 1 29 2340 35123\n",
        "209재 26 1 33 3410 34937\n",
        "210재 34 3 44 3230 35960 유행\n",
        "211재 16 0 45 2750 35600\n",
        "212재 25 1 38 2370 36506\n",
        "213재 25 0 32 2900 36626\n",
        "214재 28 0 42 2700 34658\n",
        "215재 22 2 38 1580 33789\n",
        "216재 22 0 41 3550 33344\n",
        "217재 11 0 29 2360 33984\n",
        "218재 23 2 35 2100 32920\n",
        "219재 28 2 24 2900 30743\n",
        "220재 32 3 44 2190 36154\n",
        "221재 21 0 23 2280 33676\n",
        "222재 34 1 27 2060 35187\n",
        "223재 22 7 36 1800 32732\n",
        "224재 31 1 36 1830 34031\n",
        "225재 18 0 38 2710 33517\n",
        "226재 21 0 32 2120 30035\n",
        "227재 28 0 30 2230 35821 유행\n",
        "228재 20 1 32 2720 34822\n",
        "229재 21 1 27 3290 34281\n",
        "230재 30 3 39 2290 35984\n",
        "231재 36 0 32 2170 34859\n",
        "232재 23 1 33 1460 33477\n",
        "233재 23 3 31 2300 35620\n",
        "234재 23 0 37 2500 34264\n",
        "235재 27 0 42 2640 34765\n",
        "236재 19 1 37 1820 32653\n",
        "237재 21 1 32 2630 32754\n",
        "238재 22 2 29 2040 33526\n",
        "239재 21 0 35 2860 34343\n",
        "240재 23 2 46 2160 35176\n",
        "241재 31 1 29 2190 34316\n",
        "242재 15 1 26 2450 33316\n",
        "243재 24 1 56 2720 34018\n",
        "244재 23 0 33 1940 35134\n",
        "245재 27 1 29 2850 33350\n",
        "246재 20 0 39 2140 33351\n",
        "247재 25 2 30 2200 33263\n",
        "248재 23 1 42 3390 35887\n",
        "249재 31 1 32 1690 33249\n",
        "250재 27 0 30 2270 33448 유행\n",
        "251재 26 1 30 2700 34577\n",
        "252재 21 1 33 2580 32876\n",
        "253재 27 0 32 1540 33612\n",
        "254재 25 1 32 2830 34690 유행\n",
        "255재 17 2 48 2790 34000\n",
        "256재 22 3 40 2380 35603\n",
        "257재 28 1 45 1660 35393\n",
        "258재 23 1 37 2290 34168\n",
        "259재 26 3 34 1880 35510\n",
        "260재 19 0 45 3480 34041\n",
        "261재 24 3 37 1640 33633\n",
        "262재 26 2 39 2980 36827 유행\n",
        "263재 26 1 30 1940 33223\n",
        "264재 27 0 23 2880 33955\n",
        "265재 32 4 38 2350 33448\n",
        "266재 19 0 42 2980 32431\n",
        "267재 23 1 29 2060 34006\n",
        "268재 26 1 39 2120 33187\n",
        "269재 12 2 28 2760 32385\n",
        "270재 25 0 36 2730 37386\n",
        "271재 25 1 32 1780 33284\n",
        "272재 24 4 31 1780 33617\n",
        "273재 17 0 25 2270 34881\n",
        "274재 18 2 28 2440 34870\n",
        "275재 33 0 38 2290 36821 유행\n",
        "276재 32 0 39 2060 34218\n",
        "277재 32 0 36 2200 35958\n",
        "278재 25 2 38 2200 33635\n",
        "279재 19 1 43 2250 33504\n",
        "280재 22 1 19 2110 29565\n",
        "281재 18 0 39 2110 33457\n",
        "282재 16 0 31 1860 35496\n",
        "283재 32 2 37 2080 34340\n",
        "284재 18 1 34 2630 34879\n",
        "285재 13 1 33 1100 29673\n",
        "286재 29 1 35 2050 34059\n",
        "287재 25 1 27 1600 34732\n",
        "288재 24 2 43 1630 34963\n",
        "289재 24 3 33 1640 35602\n",
        "290재 22 0 28 1460 26951\n",
        "291재 18 2 38 1530 30279\n",
        "292재 16 0 51 3570 37514\n",
        "293재 24 0 24 1650 29500\n",
        "294재 27 1 37 2030 35649\n",
        "295재 21 3 35 1360 33206\n",
        "296재 16 1 25 1770 30356\n",
        "297재 19 0 27 2010 29949\n",
        "298재 33 2 37 2030 35525\n",
        "299재 24 0 25 1250 33060\n",
        "300재 32 2 36 2020 37043\n",
        "301재 29 0 34 2480 36089\n",
        "302재 24 2 31 1590 30468\n",
        "303재 21 1 31 1830 28405\n",
        "304재 12 2 41 2210 28904\n",
        "305재 28 0 31 1430 33992\n",
        "306재 24 1 27 2350 33416\n",
        "307재 17 0 28 2150 32292\n",
        "308재 22 0 35 3060 32773\n",
        "309재 24 1 31 2840 33375\n",
        "310재 21 2 31 1900 29023\"\"\"\n",
        "\n",
        "# 데이터 행 분할\n",
        "lines = data_text.split('\\n')\n",
        "\n",
        "# 조각, 마릿수, 유행여부 값 추출\n",
        "fourth_column_frags_values = np.array([int(line.split()[3]) for line in lines if len(line.split()) > 5 and line.strip()])\n",
        "sixth_column_values = np.array([int(line.split()[5]) for line in lines if len(line.split()) > 5 and line.strip()])\n",
        "trend_column_values = np.array([1 if \"유행\" in line.split() else 0 for line in lines])\n",
        "\n",
        "print(\"fourth_column_frags_values:\", fourth_column_frags_values)\n",
        "print(\"sixth_column_values:\", sixth_column_values)\n",
        "print(\"trend_column_values:\", trend_column_values)\n",
        "data_add_inven_2366485 = [261 + 50 if trend == 1 else 261 for trend in trend_column_values]\n",
        "\n",
        "# 췤\n",
        "print(\"data_add_inven_2366485:\", data_add_inven_2366485)"
      ],
      "metadata": {
        "colab": {
          "base_uri": "https://localhost:8080/"
        },
        "id": "lzEZhgxKkWUo",
        "outputId": "18f27847-bed5-4aba-a947-f38dcefd3ca9"
      },
      "execution_count": 123,
      "outputs": [
        {
          "output_type": "stream",
          "name": "stdout",
          "text": [
            "fourth_column_frags_values: [43 38 42 36 33 33 48 41 34 37 29 33 44 45 38 32 42 38 41 29 35 24 44 23\n",
            " 27 36 36 38 32 30 32 27 39 32 33 31 37 42 37 32 29 35 46 29 26 56 33 29\n",
            " 39 30 42 32 30 30 33 32 32 48 40 45 37 34 45 37 39 30 23 38 42 29 39 28\n",
            " 36 32 31 25 28 38 39 36 38 43 19 39 31 37 34 33 35 27 43 33 28 38 51 24\n",
            " 37 35 25 27 37 25 36 34 31 31 41 31 27 28 35 31 31]\n",
            "sixth_column_values: [36522 37858 36603 36772 32009 36164 36955 32858 35960 35960 35123 34937\n",
            " 35960 35600 36506 36626 34658 33789 33344 33984 32920 30743 36154 33676\n",
            " 35187 32732 34031 33517 30035 35821 34822 34281 35984 34859 33477 35620\n",
            " 34264 34765 32653 32754 33526 34343 35176 34316 33316 34018 35134 33350\n",
            " 33351 33263 35887 33249 33448 34577 32876 33612 34690 34000 35603 35393\n",
            " 34168 35510 34041 33633 36827 33223 33955 33448 32431 34006 33187 32385\n",
            " 37386 33284 33617 34881 34870 36821 34218 35958 33635 33504 29565 33457\n",
            " 35496 34340 34879 29673 34059 34732 34963 35602 26951 30279 37514 29500\n",
            " 35649 33206 30356 29949 35525 33060 37043 36089 30468 28405 28904 33992\n",
            " 33416 32292 32773 33375 29023]\n",
            "trend_column_values: [0 1 0 0 0 0 0 0 0 0 0 0 1 0 0 0 0 0 0 0 0 0 0 0 0 0 0 0 0 1 0 0 0 0 0 0 0\n",
            " 0 0 0 0 0 0 0 0 0 0 0 0 0 0 0 1 0 0 0 1 0 0 0 0 0 0 0 1 0 0 0 0 0 0 0 0 0\n",
            " 0 0 0 1 0 0 0 0 0 0 0 0 0 0 0 0 0 0 0 0 0 0 0 0 0 0 0 0 0 0 0 0 0 0 0 0 0\n",
            " 0 0]\n",
            "data_add_inven_2366485: [261, 311, 261, 261, 261, 261, 261, 261, 261, 261, 261, 261, 311, 261, 261, 261, 261, 261, 261, 261, 261, 261, 261, 261, 261, 261, 261, 261, 261, 311, 261, 261, 261, 261, 261, 261, 261, 261, 261, 261, 261, 261, 261, 261, 261, 261, 261, 261, 261, 261, 261, 261, 311, 261, 261, 261, 311, 261, 261, 261, 261, 261, 261, 261, 311, 261, 261, 261, 261, 261, 261, 261, 261, 261, 261, 261, 261, 311, 261, 261, 261, 261, 261, 261, 261, 261, 261, 261, 261, 261, 261, 261, 261, 261, 261, 261, 261, 261, 261, 261, 261, 261, 261, 261, 261, 261, 261, 261, 261, 261, 261, 261, 261]\n"
          ]
        }
      ]
    },
    {
      "cell_type": "code",
      "source": [
        "import numpy as np\n",
        "from scipy.optimize import curve_fit\n",
        "import matplotlib.pyplot as plt\n",
        "\n",
        "# 마리수 임시 합병용 데이터\n",
        "n = 9000\n",
        "n2 = 9500\n",
        "n3 = 1630 * 5\n",
        "n4 = 1760 * 5\n",
        "n5 = 1920 * 5\n",
        "\n",
        "# 데이터. 드랍, 조각, 마리수\n",
        "a = np.array([126, 234, 276, 326, 154, 174, 194, 264])\n",
        "item_counts = np.array([7.04, 8.4, 10.5, 11.6, 432 / 68, 383 / 53, 423 / 52, 446 / 48])\n",
        "mob_counts = np.array([n, n, n2, n2, n3, n3, n4, n5])\n",
        "\n",
        "\n",
        "# 데이터 병합소\n",
        "all_a_values = np.concatenate([a, data_add_inven_2366485])\n",
        "all_item_counts = np.concatenate([item_counts,fourth_column_frags_values/4])\n",
        "all_mob_counts = np.concatenate([mob_counts,sixth_column_values/4])\n",
        "\"\"\"all_a_values = a\n",
        "all_item_counts = item_counts\n",
        "all_mob_counts = mob_counts\"\"\"\n",
        "\n",
        "# 오타체크\n",
        "#print(all_item_counts)\n",
        "#print(all_mob_counts)\n",
        "\n",
        "# p값 고르기\n",
        "\n",
        "p_fixed = 0.0006\n",
        "\n",
        "# 최종 확률\n",
        "final_probabilities = all_item_counts / all_mob_counts\n",
        "\n",
        "def final_probability_model(a, b):\n",
        "    return p_fixed * (1 + b * np.log10(a + 1))\n",
        "\n",
        "# 최소 자승법 모델\n",
        "popt, pcov = curve_fit(final_probability_model, all_a_values, final_probabilities, bounds=(0, np.inf))\n",
        "optimal_b = popt[0]\n",
        "\n",
        "# 최적화된 b값과 고정된 p값 활용식\n",
        "def updated_final_probability_model(a):\n",
        "    return p_fixed * (1 + optimal_b * np.log10(a + 1))\n",
        "\n",
        "# 출력\n",
        "print(f\"아드0% 조각드랍율 : {updated_final_probability_model(0)*100}%\")\n",
        "print(f\"Optimal b value: {optimal_b}\")\n",
        "\n",
        "# 최종 확률 모델 그래프\n",
        "a_values_for_plot = np.linspace(0, 450, 1000)\n",
        "final_probabilities_for_plot = updated_final_probability_model(a_values_for_plot)\n",
        "\n",
        "# 데이터\n",
        "plt.scatter(all_a_values, final_probabilities, label='Actual Data', color='blue')\n",
        "\n",
        "# 로그선\n",
        "plt.plot(a_values_for_plot, final_probabilities_for_plot, label='Final Probability Model', color='red')\n",
        "\n",
        "plt.xlabel('Equipment Effect (a)')\n",
        "plt.ylabel('Final Probability')\n",
        "plt.title('Final Probability Model')\n",
        "plt.legend()\n",
        "plt.show()\n",
        "\n",
        "# 각 a값에 대한 최종 확률 및 아이템 획득 수 계산 및 출력\n",
        "for a_val, final_prob, item_count in zip(all_a_values, final_probabilities, all_item_counts):\n",
        "    updated_final_prob = updated_final_probability_model(a_val)\n",
        "    updated_item_count = n * updated_final_prob  # 아이템 획득 수 계산\n",
        "    #print(\"\\nFor a = {:.2f}:\".format(a_val))\n",
        "    #print(f\"Original Final Probability: {final_prob}\")\n",
        "    #print(f\"Updated Final Probability: {updated_final_prob}\")\n",
        "    #print(f\"Original Item Count: {item_count}\")\n",
        "    #print(f\"Updated Item Count: {updated_item_count:.5f}\")\n",
        ""
      ],
      "metadata": {
        "colab": {
          "base_uri": "https://localhost:8080/",
          "height": 509
        },
        "id": "qxgeYuH7pmQD",
        "outputId": "dfaa6411-8dd0-4c9f-8f12-9720f57834d5"
      },
      "execution_count": 125,
      "outputs": [
        {
          "output_type": "stream",
          "name": "stdout",
          "text": [
            "아드0% 조각드랍율 : 0.06%\n",
            "Optimal b value: 0.28715909332484335\n"
          ]
        },
        {
          "output_type": "display_data",
          "data": {
            "text/plain": [
              "<Figure size 640x480 with 1 Axes>"
            ],
            "image/png": "[encoded data removed]"
          },
          "metadata": {}
        }
      ]
    },
    {
      "cell_type": "code",
      "source": [
        "import matplotlib.pyplot as plt\n",
        "import numpy as np\n",
        "\n",
        "# 수식 LaTeX\n",
        "#latex_expression = r'$\\frac{1}{2\\pi}\\int_{0}^{2\\pi} \\sin(x) \\,dx$'\n",
        "latex_expression = r'$p\\ \\cdot \\ \\left(1\\ +\\ b\\ \\cdot \\ \\log _{10}\\left(1+a\\right)\\right)$'\n",
        "\n",
        "fig, ax = plt.subplots()\n",
        "ax.text(0.5, 0.5, latex_expression, size=20, ha='center', va='center', usetex=False)\n",
        "\n",
        "ax.axis('off')\n",
        "\n",
        "# plt.savefig('math_expression.png')\n",
        "\n",
        "plt.show()"
      ],
      "metadata": {
        "colab": {
          "base_uri": "https://localhost:8080/",
          "height": 406
        },
        "id": "BV9_1_FtyQNs",
        "outputId": "b44b5daf-8e4a-4710-d96f-30ec2cefc927"
      },
      "execution_count": 126,
      "outputs": [
        {
          "output_type": "display_data",
          "data": {
            "text/plain": [
              "<Figure size 640x480 with 1 Axes>"
            ],
            "image/png": "[encoded data removed]"
          },
          "metadata": {}
        }
      ]
    },
    {
      "cell_type": "code",
      "source": [
        "import numpy as np\n",
        "from scipy.optimize import curve_fit\n",
        "import matplotlib.pyplot as plt\n",
        "\n",
        "# 마리수 임시 합병용 데이터\n",
        "n = 9000\n",
        "n2 = 9500\n",
        "n3 = 1630 * 5\n",
        "n4 = 1760 * 5\n",
        "n5 = 1920 * 5\n",
        "\n",
        "# 데이터. 드랍, 조각, 마리수\n",
        "a = np.array([126, 234, 276, 326, 154, 174, 194, 264])\n",
        "item_counts = np.array([7.04, 8.4, 10.5, 11.6, 432 / 68, 383 / 53, 423 / 52, 446 / 48])\n",
        "mob_counts = np.array([n, n, n2, n2, n3, n3, n4, n5])\n",
        "\n",
        "# 데이터 병합\n",
        "all_a_values = np.concatenate([a, data_add_inven_2366485])\n",
        "all_item_counts = np.concatenate([item_counts, fourth_column_frags_values / 4])\n",
        "all_mob_counts = np.concatenate([mob_counts, sixth_column_values / 4])\n",
        "\n",
        "# p 골라보기\n",
        "p_values = np.linspace(0.0001, 0.001, 19)\n",
        "\n",
        "# 결과 저장\n",
        "optimal_b_values = []\n",
        "p_b_pairs = []\n",
        "\n",
        "# 각 p값에 대해 최적의 b를 찾음\n",
        "for p_fixed in p_values:\n",
        "    final_probabilities = all_item_counts / all_mob_counts\n",
        "\n",
        "    def final_probability_model(a, b):\n",
        "        return p_fixed * (1 + b * np.log10(a + 1))\n",
        "\n",
        "# 최소 자승법\n",
        "    popt, pcov = curve_fit(final_probability_model, all_a_values, final_probabilities, bounds=(0, np.inf))\n",
        "    optimal_b = popt[0]\n",
        "    optimal_b_values.append(optimal_b)\n",
        "    p_b_pairs.append((p_fixed, optimal_b))\n",
        "\n",
        "# 그래프 출력\n",
        "plt.plot(p_values, optimal_b_values, marker='o', linestyle='-', color='blue')\n",
        "plt.xlabel('fixed p Values')\n",
        "plt.ylabel('optimal b Values')\n",
        "plt.title('b Values for p')\n",
        "plt.show()\n",
        "for p, b in p_b_pairs:\n",
        "    print(f\"p: {p:.5f}, b: {b:.5f}\")\n"
      ],
      "metadata": {
        "colab": {
          "base_uri": "https://localhost:8080/",
          "height": 823
        },
        "id": "cHkzrUTV-xQv",
        "outputId": "c576d946-eb50-44c3-800d-66798ccf9944"
      },
      "execution_count": 127,
      "outputs": [
        {
          "output_type": "display_data",
          "data": {
            "text/plain": [
              "<Figure size 640x480 with 1 Axes>"
            ],
            "image/png": "[encoded data removed]"
          },
          "metadata": {}
        },
        {
          "output_type": "stream",
          "name": "stdout",
          "text": [
            "p: 0.00010, b: 3.79143\n",
            "p: 0.00015, b: 2.38972\n",
            "p: 0.00020, b: 1.68886\n",
            "p: 0.00025, b: 1.26835\n",
            "p: 0.00030, b: 0.98815\n",
            "p: 0.00035, b: 0.78777\n",
            "p: 0.00040, b: 0.63758\n",
            "p: 0.00045, b: 0.52078\n",
            "p: 0.00050, b: 0.42738\n",
            "p: 0.00055, b: 0.35087\n",
            "p: 0.00060, b: 0.28716\n",
            "p: 0.00065, b: 0.23329\n",
            "p: 0.00070, b: 0.18703\n",
            "p: 0.00075, b: 0.14699\n",
            "p: 0.00080, b: 0.11200\n",
            "p: 0.00085, b: 0.08102\n",
            "p: 0.00090, b: 0.05358\n",
            "p: 0.00095, b: 0.02896\n",
            "p: 0.00100, b: 0.00824\n"
          ]
        }
      ]
    },
    {
      "cell_type": "code",
      "source": [],
      "metadata": {
        "id": "YZ6dkKlzAZ-_"
      },
      "execution_count": null,
      "outputs": []
    }
  ]
}